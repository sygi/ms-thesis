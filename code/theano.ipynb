{
 "metadata": {
  "name": "",
  "signature": "sha256:c6068da6a64a435ec5de65ed2f48e94992504eec0d6156855349ca0332f998f4"
 },
 "nbformat": 3,
 "nbformat_minor": 0,
 "worksheets": [
  {
   "cells": [
    {
     "cell_type": "markdown",
     "metadata": {},
     "source": [
      "Before executing, install theano with `pip install Theano`."
     ]
    },
    {
     "cell_type": "code",
     "collapsed": false,
     "input": [
      "import theano\n",
      "\n",
      "x = theano.tensor.dscalar(\"x\")\n",
      "y = 3 * x - x * x\n",
      "dy = theano.tensor.grad(y, [x])[0] # -2x + 3\n",
      "f = theano.function(inputs=[x], outputs=[y, dy])\n",
      "f(3)"
     ],
     "language": "python",
     "metadata": {},
     "outputs": [
      {
       "output_type": "stream",
       "stream": "stderr",
       "text": [
        "Using gpu device 0: GeForce GTX 1070 (CNMeM is disabled, cuDNN 5105)\n",
        "/home/sygi/.local/lib/python2.7/site-packages/theano/sandbox/cuda/__init__.py:600: UserWarning: Your cuDNN version is more recent than the one Theano officially supports. If you see any problems, try updating Theano or downgrading cuDNN to version 5.\n",
        "  warnings.warn(warn)\n"
       ]
      },
      {
       "metadata": {},
       "output_type": "pyout",
       "prompt_number": 1,
       "text": [
        "[array(0.0), array(-3.0)]"
       ]
      }
     ],
     "prompt_number": 1
    }
   ],
   "metadata": {}
  }
 ]
}