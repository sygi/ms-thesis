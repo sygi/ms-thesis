{
 "metadata": {
  "name": "",
  "signature": "sha256:27fb366c4210a23d310ad5ae3f77121a8b7d94d666dda3d2b3f2bc765d4fdb27"
 },
 "nbformat": 3,
 "nbformat_minor": 0,
 "worksheets": [
  {
   "cells": [
    {
     "cell_type": "markdown",
     "metadata": {},
     "source": [
      "The data describes weight (in pounds) and height (in inches) of the winners of the Miss America Contest.\n",
      "The data comes from http://www.pbs.org/wgbh/amex/missamerica/sfeature/sf_list.html."
     ]
    },
    {
     "cell_type": "code",
     "collapsed": false,
     "input": [
      "import numpy as np\n",
      "import matplotlib.pyplot as plt\n",
      "%matplotlib inline  \n",
      "data = np.genfromtxt('weight-height.csv', delimiter='\\t')"
     ],
     "language": "python",
     "metadata": {},
     "outputs": [],
     "prompt_number": 32
    },
    {
     "cell_type": "code",
     "collapsed": false,
     "input": [
      "height = data[:, 4]  # in feet\n",
      "weight = data[:, 5]  # in pounds\n",
      "nonnan = np.logical_not(np.logical_or(np.isnan(height), np.isnan(weight)))\n",
      "\n",
      "height = height[nonnan]\n",
      "weight = weight[nonnan]"
     ],
     "language": "python",
     "metadata": {},
     "outputs": [],
     "prompt_number": 27
    },
    {
     "cell_type": "code",
     "collapsed": false,
     "input": [
      "def plot(x, y, param=None, bias=None):\n",
      "  plt.plot(x, y, 'o')\n",
      "  plt.xlabel(\"weight [lbs]\")\n",
      "  plt.ylabel(\"height [in]\")\n",
      "  if param is None:\n",
      "    plt.show()\n",
      "    return\n",
      "  plt.plot([100, 150], [f(100, param, bias), f(150, param, bias)], '-', linewidth=2)\n",
      "  plt.show()\n",
      "\n",
      "plot(weight, height)"
     ],
     "language": "python",
     "metadata": {},
     "outputs": [
      {
       "metadata": {},
       "output_type": "display_data",
       "png": "[encoded data removed]",
       "text": [
        "<matplotlib.figure.Figure at 0x7fdd3a092810>"
       ]
      }
     ],
     "prompt_number": 109
    },
    {
     "cell_type": "code",
     "collapsed": false,
     "input": [
      "def f(x, param, bias):\n",
      "  return x * param + bias"
     ],
     "language": "python",
     "metadata": {},
     "outputs": [],
     "prompt_number": 39
    },
    {
     "cell_type": "code",
     "collapsed": false,
     "input": [
      "def loss(x, y, param, bias):\n",
      "  return np.mean((f(x, param, bias) - y)**2)"
     ],
     "language": "python",
     "metadata": {},
     "outputs": [],
     "prompt_number": 60
    },
    {
     "cell_type": "code",
     "collapsed": false,
     "input": [
      "def d_param(x, y, param, bias):\n",
      "  return np.mean((2 * (x * param + bias - y)) * x)\n",
      "\n",
      "def d_bias(x, y, param, bias):\n",
      "  return np.mean(2 *(x * param + bias - y))"
     ],
     "language": "python",
     "metadata": {},
     "outputs": [],
     "prompt_number": 87
    },
    {
     "cell_type": "code",
     "collapsed": false,
     "input": [
      "learning_rate_param = 0.00001\n",
      "learning_rate_bias = 0.001  # different learning rates due to no normalization\n",
      "param, bias = 0., 0.\n",
      "for i in xrange(10):\n",
      "  print \"param: \", param, \"bias:\", bias\n",
      "  print \"loss:\", loss(weight, height, param, bias)\n",
      "  d_p = d_param(weight, height, param, bias)\n",
      "  d_b = d_bias(weight, height, param, bias)\n",
      "  param -= d_p * learning_rate_param\n",
      "  bias -= d_p * learning_rate_bias\n",
      "  \n",
      "plot(weight, height, param, bias)"
     ],
     "language": "python",
     "metadata": {},
     "outputs": [
      {
       "output_type": "stream",
       "stream": "stdout",
       "text": [
        "param:  0.0 bias: 0.0\n",
        "loss: 4445.78492647\n",
        "param:  0.161438235294 bias: 16.1438235294\n",
        "loss: 961.957383368\n",
        "param:  0.23633778945 bias: 23.633778945\n",
        "loss: 211.123946783\n",
        "param:  0.271087569776 bias: 27.1087569776\n",
        "loss: 49.0722131876\n",
        "param:  0.287209791682 bias: 28.7209791682\n",
        "loss: 13.9890654355\n",
        "param:  0.294689724986 bias: 29.4689724986\n",
        "loss: 6.34397571366\n",
        "param:  0.298160053242 bias: 29.8160053242\n",
        "loss: 4.6550281954\n",
        "param:  0.29977011816 bias: 29.977011816\n",
        "loss: 4.27137596917\n",
        "param:  0.300517110621 bias: 30.0517110621\n",
        "loss: 4.17946698258\n",
        "param:  0.300863679091 bias: 30.0863679091\n",
        "loss: 4.15535600987\n"
       ]
      },
      {
       "metadata": {},
       "output_type": "display_data",
       "png": "[encoded data removed]",
       "text": [
        "<matplotlib.figure.Figure at 0x7fdd3a5ce650>"
       ]
      }
     ],
     "prompt_number": 110
    }
   ],
   "metadata": {}
  }
 ]
}